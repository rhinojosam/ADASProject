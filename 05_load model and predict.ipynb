{
 "cells": [
  {
   "cell_type": "markdown",
   "metadata": {},
   "source": [
    "# Using a saved model for prediction\n",
    "\n",
    "After training our model with some training datasets we want to use it for prediction on new data (e.g. new images)\n",
    "\n",
    "## Loading the saved model"
   ]
  },
  {
   "cell_type": "code",
   "execution_count": null,
   "metadata": {},
   "outputs": [],
   "source": [
    "from tensorflow.keras.models import load_model\n",
    "from keras.preprocessing import image\n",
    "import cv2\n",
    "import numpy as np\n",
    "from skimage.color import rgb2grey\n",
    "\n",
    "# dimensions of our images\n",
    "img_width, img_height = 32, 32\n",
    "\n",
    "# load the model we saved\n",
    "model = load_model('saved_models/model_32x32.h5', #available models: \n",
    "                    custom_objects=None,           #model_32x32.h5, model_small.h5(32x32), model_64x64.h5\n",
    "                    compile=False) "
   ]
  },
  {
   "cell_type": "markdown",
   "metadata": {},
   "source": [
    "## Loading an image for prediction\n",
   ]
  },
  {
   "cell_type": "code",
   "execution_count": null,
   "metadata": {},
   "outputs": [],
   "source": [
    "#preprocessing the images. We need the same shape as our training images.\n",
    "img = cv2.imread('test_img/stop.jpg') #available signs: stop.jpg, 50.jpg, baustelle.jpg'\n",
    "img = cv2.resize(img, (img_width, img_height))\n",
    "img = rgb2grey(img)\n",
    "img.shape"
   ]
  },
  {
   "cell_type": "code",
   "execution_count": null,
   "metadata": {},
   "outputs": [],
   "source": [
    "x = image.img_to_array(img)\n",
    "x = np.expand_dims(x, axis=0) #adding a third dimension to our greyscale(n, m) image\n",
    "images = np.vstack([x]) #stacking arrays in sequence verticaly (we create a batch but with just 1 image)\n",
    "images.shape"
   ]
  },
  {
   "cell_type": "markdown",
   "metadata": {},
   "source": [
    "## Running the prediction"
   ]
  },
  {
   "cell_type": "code",
   "execution_count": null,
   "metadata": {},
   "outputs": [],
   "source": [
    "# predicting images\n",
    "classes = model.predict_classes(images)\n",
    "print(classes)\n",
    "if classes == 0:\n",
    "    print(\"Sign: Zeichen 123 Arbeitsstelle\")\n",
    "elif classes == 1:\n",
    "    print(\"Sign: Zeichen 274-55 Zulässige Höchstgeschwindigkeit 50 km/h\")\n",
    "elif classes == 2:\n",
    "    print(\"Sign: Zeichen 206 Halt. Vorfahrt gewähren.\")"
   ]
  },
  {
   "cell_type": "markdown",
   "metadata": {},
   "source": [
    "Let's take a look at the probability:"
   ]
  },
  {
   "cell_type": "code",
   "execution_count": null,
   "metadata": {},
   "outputs": [],
   "source": [
    "images = np.vstack([x])\n",
    "probability = model.predict_proba(images)\n",
    "print(probability)"
   ]
  },
  {
   "cell_type": "code",
   "execution_count": null,
   "metadata": {},
   "outputs": [],
   "source": [
    "import matplotlib.pyplot as plt\n",
    "plt.imshow(img, cmap=\"gray\")"
   ]
  },
  {
   "cell_type": "code",
   "execution_count": null,
   "metadata": {},
   "outputs": [],
   "source": []
  }
 ],
 "metadata": {
  "kernelspec": {
   "display_name": "Python 3",
   "language": "python",
   "name": "python3"
  },
  "language_info": {
   "codemirror_mode": {
    "name": "ipython",
    "version": 3
   },
   "file_extension": ".py",
   "mimetype": "text/x-python",
   "name": "python",
   "nbconvert_exporter": "python",
   "pygments_lexer": "ipython3",
   "version": "3.7.6"
  }
 },
 "nbformat": 4,
 "nbformat_minor": 4
}
